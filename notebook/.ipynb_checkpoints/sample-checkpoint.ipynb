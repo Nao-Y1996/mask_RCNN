{
 "cells": [
  {
   "cell_type": "code",
   "execution_count": null,
   "id": "initial_id",
   "metadata": {
    "collapsed": true,
    "is_executing": true,
    "ExecuteTime": {
     "start_time": "2024-03-10T05:24:04.835053Z"
    }
   },
   "outputs": [],
   "source": [
    "import torch\n",
    "from my_utils import CustomCocoDataset, get_transform, get_model_instance_segmentation\n",
    "\n",
    "from torchvision.io import read_image\n",
    "from torchvision.io import ImageReadMode\n",
    "\n",
    "if __name__ == '__main__':\n",
    "    device = torch.device('cuda') if torch.cuda.is_available() else torch.device('cpu')\n",
    "\n",
    "    num_classes = 91 + 1  # including background\n",
    "\n",
    "    image = read_image('../data/images/000000000139.jpg', ImageReadMode.RGB)\n",
    "    images = [image]\n",
    "\n",
    "    model = get_model_instance_segmentation(num_classes)\n",
    "    model.to(device)\n",
    "    model.eval()\n",
    "    x = [torch.rand(3, 300, 400), torch.rand(3, 500, 400)]\n",
    "    output = model(x)\n",
    "    print(type(output))\n",
    "    print(len(output))\n"
   ]
  },
  {
   "cell_type": "code",
   "outputs": [],
   "source": [],
   "metadata": {
    "collapsed": false
   },
   "id": "37cf6912168caf0b"
  }
 ],
 "metadata": {
  "kernelspec": {
   "display_name": "Python 3",
   "language": "python",
   "name": "python3"
  },
  "language_info": {
   "codemirror_mode": {
    "name": "ipython",
    "version": 2
   },
   "file_extension": ".py",
   "mimetype": "text/x-python",
   "name": "python",
   "nbconvert_exporter": "python",
   "pygments_lexer": "ipython2",
   "version": "2.7.6"
  }
 },
 "nbformat": 4,
 "nbformat_minor": 5
}
